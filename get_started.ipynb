{
 "cells": [
  {
   "cell_type": "markdown",
   "metadata": {},
   "source": [
    "# Get started with `gappyfpca`"
   ]
  },
  {
   "cell_type": "markdown",
   "metadata": {},
   "source": [
    "### Load modules\n",
    "- From gappyfpca load gappyfpca to generate the fpca decompostion and reconstruct_func to reconstruct the functions from the decomposition\n",
    "- Numpy is required to generate synthetic data in a np.array format, and matplotlib to plot the results"
   ]
  },
  {
   "cell_type": "code",
   "execution_count": null,
   "metadata": {},
   "outputs": [],
   "source": [
    "from gappyfpca.fpca import *\n",
    "from gappyfpca.eig import fpca_num_coefs\n",
    "import numpy as np\n",
    "import matplotlib.pyplot as plt"
   ]
  },
  {
   "cell_type": "markdown",
   "metadata": {},
   "source": [
    "### Generate some synthetic data\n",
    "\n",
    "- For gappyfpca the data must be saved in a np.ndarray of size M x L where M (rows) is the number of data functions and L (cols) is the length of each function. \n",
    "- Each function must be discretised to the same grid, and missing data is indicated with NaN\n",
    "- This example plots 3-order polynomials, therefore the exact functions should be returned with 3 PC components for full functions"
   ]
  },
  {
   "cell_type": "code",
   "execution_count": null,
   "metadata": {},
   "outputs": [],
   "source": [
    "# generate synthetic dataset to test\n",
    "\n",
    "# Parameters\n",
    "M = 1000  # Number of functions\n",
    "L = 50   # Length of each function\n",
    "\n",
    "\n",
    "# Random polynomials\n",
    "nsize=3\n",
    "functions = np.array([np.polyval(np.random.uniform(-1, 1, size=nsize), np.linspace(-1, 1, L)) \n",
    "                      for _ in range(M)])\n",
    "\n",
    "data=np.copy(functions)\n",
    "#artifically gappy it\n",
    "for i in range(M):\n",
    "    # Determine the number of NaNs to insert (0 to <25% of the function length)\n",
    "    num_nans = np.random.randint(0, L // 2)  \n",
    "    # Randomly select indices to replace with NaN\n",
    "    nan_indices = np.random.choice(L, num_nans, replace=False)\n",
    "    # Replace selected indices with NaN\n",
    "    data[i, nan_indices] = np.nan\n",
    "\n"
   ]
  },
  {
   "cell_type": "markdown",
   "metadata": {},
   "source": [
    "### Check gappy data suitability\n",
    "- `check_gappiness()` will check whether the data is suitable for the fPCA algorithm and it's recommended that you call it before running `gappyfpca()`\n",
    "    - Rows or columns with all NaNs: clean_empty_data() will remove any rows or columns which are entirely empty. \n",
    "    - Dot of data has NaNs: currently, there is no function provided to handle this, this will need to be done by the user. There must be no two functions which do not have any overlapping data and the problem row/column combinations will be indicted\n",
    "    - Data is suitable: total percentage of missing data printed\n",
    "- If the data is 'too gappy' the result will not be able to converge to the desired tolerance - consider removing some of the gappiness ie. remove functions (rows) or grid points (columns) with the highest percentage of gappiness or relaxing the constraint, depending on the usecase\n",
    "\n",
    "- A hard limit to ensure calculation is that each function must be more than 50% complete, but in practice they can be much more gappy"
   ]
  },
  {
   "cell_type": "code",
   "execution_count": null,
   "metadata": {},
   "outputs": [],
   "source": [
    "check_gappiness(data)"
   ]
  },
  {
   "cell_type": "markdown",
   "metadata": {},
   "source": [
    "### Find fPCA representation\n",
    "\n",
    "- call `gappyfpca()` to compute the fPCA representation\n",
    "- Required inputs are\n",
    "    - data matrix\n",
    "    - explained variance of components (N) to return, the convergence will be tested at this value\n",
    "- Optional inputs are \n",
    "    - max_iter, the absolute max number of iterations, default = 25\n",
    "    - stable_iter, the number of iterations that the reconstruction must be stable for, default = 5\n",
    "    - tol, convergence tolerance for reconstructed functions, default = 5e-3\n",
    "    - iparallel, default = 0, if iparallel = 1, Multiprocessing is called for the calculation of the weight optimisation to speed up computation\n",
    "- The outputs are:\n",
    "    - fpca_comps, N+1 x L, where the first row is the data mean and N is the number of components\n",
    "    - fpca_coefs, M x N\n",
    "    - eigenvalues for full decompostion, size = min(L,M)\n",
    "    - run_stat: array of reconstruction change error at each iteration\n",
    "- Considerations:  \n",
    "    - Setting explained variance at 0.95 ensures noisy PCs due to missing data are not returned"
   ]
  },
  {
   "cell_type": "code",
   "execution_count": null,
   "metadata": {},
   "outputs": [],
   "source": [
    "# Generate fpca of gappy data using\n",
    "fpca_comps,fpca_coefs,evalue,run_stat=gappyfpca(data,exp_var=0.95,max_iter=15,stable_iter=5,tol=5e-3,iparallel=0)"
   ]
  },
  {
   "cell_type": "markdown",
   "metadata": {},
   "source": [
    "#### fPCA on non-gappy data for comparison\n",
    "- max 1 iteration as solution will already be converged"
   ]
  },
  {
   "cell_type": "code",
   "execution_count": null,
   "metadata": {},
   "outputs": [],
   "source": [
    "# perform fPCA on non gappy data to compare (1 iteration)\n",
    "fpca_comps_full, fpca_coefs_full, _, _ = gappyfpca(functions,exp_var=1,max_iter=1)"
   ]
  },
  {
   "cell_type": "markdown",
   "metadata": {},
   "source": [
    "### Plot fPCA mean and modes of gappy vs full representation\n"
   ]
  },
  {
   "cell_type": "code",
   "execution_count": null,
   "metadata": {},
   "outputs": [],
   "source": [
    "# plot the modes vs non-gappy modes\n",
    "fig,ax=plt.subplots(1,1,figsize=(5,4))\n",
    "ax.plot(fpca_comps[0,:],label='gappy fPCA mean')\n",
    "ax.plot(fpca_comps_full[0,:],'--',label='full fPCA mean')\n",
    "modes_to_plot = min(5,fpca_comps_full.shape[0])\n",
    "for i in range(1,modes_to_plot):\n",
    "    ax.plot(fpca_comps[i,:],label='gappy fPCA mode '+str(i))\n",
    "    ax.plot(fpca_comps_full[i,:],'--',label='full fPCA mode '+str(i))\n",
    "ax.legend()"
   ]
  },
  {
   "cell_type": "code",
   "execution_count": null,
   "metadata": {},
   "outputs": [],
   "source": [
    "# plot the coefficients\n",
    "colors = plt.cm.tab10.colors\n",
    "fig,ax=plt.subplots(1,1,figsize=(5,4))\n",
    "modes_to_plot = min(5,fpca_coefs_full.shape[0])\n",
    "for i in range(5):\n",
    "    ax.plot(fpca_coefs[i,:nsize+1],color=colors[i])\n",
    "    ax.plot(fpca_coefs_full[i,:nsize+1],'--',color=colors[i])\n",
    "\n",
    "ax.set_title('Calculated fPCA coefficients for 5 functions')\n",
    "ax.set_xlabel('n')\n",
    "ax.set_ylabel('Coefficient value')\n"
   ]
  },
  {
   "cell_type": "markdown",
   "metadata": {},
   "source": [
    "### Reconstruct data\n",
    "\n",
    "- call `reconstruct_func()`\n",
    "- Inputs are fpca_mean (L), fpca_comps (N x L) , fpca_coefs (M x N)\n",
    "- Returns an array of the reconstructed functions, size M x L"
   ]
  },
  {
   "cell_type": "code",
   "execution_count": null,
   "metadata": {},
   "outputs": [],
   "source": [
    "# Impute missing data at 95% explained variance, excludes noise due to missing data\n",
    "\n",
    "# find number of coefficients\n",
    "num_coefs=fpca_num_coefs(evalue,0.95)\n",
    "print(num_coefs,' coefficients explain 95% of variance')\n",
    "\n",
    "function_recon=reconstruct_func(fpca_comps[0,:],fpca_comps[1:,:],fpca_coefs,num_coefs)\n",
    "full_function_recon=reconstruct_func(fpca_comps_full[0,:],fpca_comps_full[1:,:],fpca_coefs_full,num_coefs=num_coefs)\n"
   ]
  },
  {
   "cell_type": "markdown",
   "metadata": {},
   "source": [
    "### Plot raw data (solid) vs gappy fpca reconstruction (dashed) vs full fpca reconstruction (dotted)"
   ]
  },
  {
   "cell_type": "code",
   "execution_count": null,
   "metadata": {},
   "outputs": [],
   "source": [
    "fig,ax=plt.subplots(1,1,figsize=(5,4))\n",
    "colors = plt.cm.tab10.colors\n",
    "for i in range(5):\n",
    "    ax.plot(data[i,:],linestyle='-',linewidth=2,color=colors[i])\n",
    "    ax.plot(function_recon[i,:],linestyle='--',linewidth=1,color=colors[i])\n",
    "    ax.plot(full_function_recon[i,:],linestyle=':',linewidth=1,color=colors[i])\n",
    "ax.set_xlabel('x')\n",
    "ax.set_ylabel('y')\n",
    "ax.set_title('5 Reconstructed functions')"
   ]
  },
  {
   "cell_type": "markdown",
   "metadata": {},
   "source": [
    "- a 'good' reconstruction should be seen for the functions !\n",
    "    - offset between reconstruction and data can be seen when data is missing on one end of function, leads to a bias in the fit of the coefficients to the gappy data, despite returned components and mean being very close to the full data representation"
   ]
  }
 ],
 "metadata": {
  "kernelspec": {
   "display_name": "gappyfpca",
   "language": "python",
   "name": "python3"
  },
  "language_info": {
   "codemirror_mode": {
    "name": "ipython",
    "version": 3
   },
   "file_extension": ".py",
   "mimetype": "text/x-python",
   "name": "python",
   "nbconvert_exporter": "python",
   "pygments_lexer": "ipython3",
   "version": "3.11.10"
  }
 },
 "nbformat": 4,
 "nbformat_minor": 2
}
